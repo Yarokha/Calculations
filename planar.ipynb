{
 "cells": [
  {
   "cell_type": "code",
   "execution_count": 34,
   "metadata": {
    "collapsed": false
   },
   "outputs": [],
   "source": [
    "from sympy import symbols, cos, sin\n",
    "import matplotlib.pyplot as plt\n",
    "from sympy import *\n",
    "import numpy as np\n",
    "import scipy.optimize as sc\n",
    "init_printing(use_unicode=True)\n",
    "n1 = Symbol('n_1')\n",
    "n2 = Symbol('n_2')\n",
    "w = Symbol('w')\n",
    "d = Symbol('d')\n",
    "c = Symbol('c')\n",
    "nu = Symbol(r'nu')\n",
    "kp = Symbol('k_||')\n",
    "# w=2*pi*nu\n",
    "# k0 = w/c\n",
    "k0= Symbol('k_0')\n",
    "k1 = k0 * n1\n",
    "kz1=Symbol('k_z1')\n",
    "kz0=sqrt(k0**2-kp**2)\n",
    "kz1=sqrt(k1**2-kp**2)\n",
    "kz2=kz0"
   ]
  },
  {
   "cell_type": "code",
   "execution_count": 35,
   "metadata": {
    "collapsed": true
   },
   "outputs": [],
   "source": [
    "M0 = Matrix([[1 + kz1/kz0, 1 - kz1/kz0], [1 - kz1/kz0, 1 + kz1/kz0]])\n",
    "M1 = Matrix([[(1 + kz2/kz1)*exp(-I*kz1*d), (1 - kz2/kz1)*exp(-I*kz1*d)], [(1 - kz2/kz1)*exp(I*kz1*d), (1 + kz2/kz1)*exp(I*kz1*d)]])"
   ]
  },
  {
   "cell_type": "code",
   "execution_count": 36,
   "metadata": {
    "collapsed": false
   },
   "outputs": [
    {
     "data": {
      "image/png": "[encoded data removed]",
      "text/latex": [
       "$$\\left[\\begin{matrix}1 + \\frac{\\sqrt{k_{0}^{2} n_{1}^{2} - k_{||}^{2}}}{\\sqrt{k_{0}^{2} - k_{||}^{2}}} & 1 - \\frac{\\sqrt{k_{0}^{2} n_{1}^{2} - k_{||}^{2}}}{\\sqrt{k_{0}^{2} - k_{||}^{2}}}\\\\1 - \\frac{\\sqrt{k_{0}^{2} n_{1}^{2} - k_{||}^{2}}}{\\sqrt{k_{0}^{2} - k_{||}^{2}}} & 1 + \\frac{\\sqrt{k_{0}^{2} n_{1}^{2} - k_{||}^{2}}}{\\sqrt{k_{0}^{2} - k_{||}^{2}}}\\end{matrix}\\right]$$"
      ],
      "text/plain": [
       "⎡       _________________         _________________⎤\n",
       "⎢      ╱   2   2       2         ╱   2   2       2 ⎥\n",
       "⎢    ╲╱  k₀ ⋅n₁  - k_||        ╲╱  k₀ ⋅n₁  - k_||  ⎥\n",
       "⎢1 + ────────────────────  1 - ────────────────────⎥\n",
       "⎢         _____________             _____________  ⎥\n",
       "⎢        ╱   2       2             ╱   2       2   ⎥\n",
       "⎢      ╲╱  k₀  - k_||            ╲╱  k₀  - k_||    ⎥\n",
       "⎢                                                  ⎥\n",
       "⎢       _________________         _________________⎥\n",
       "⎢      ╱   2   2       2         ╱   2   2       2 ⎥\n",
       "⎢    ╲╱  k₀ ⋅n₁  - k_||        ╲╱  k₀ ⋅n₁  - k_||  ⎥\n",
       "⎢1 - ────────────────────  1 + ────────────────────⎥\n",
       "⎢         _____________             _____________  ⎥\n",
       "⎢        ╱   2       2             ╱   2       2   ⎥\n",
       "⎣      ╲╱  k₀  - k_||            ╲╱  k₀  - k_||    ⎦"
      ]
     },
     "execution_count": 36,
     "metadata": {},
     "output_type": "execute_result"
    }
   ],
   "source": [
    "M0"
   ]
  },
  {
   "cell_type": "code",
   "execution_count": 37,
   "metadata": {
    "collapsed": false
   },
   "outputs": [
    {
     "data": {
      "image/png": "[encoded data removed]",
      "text/latex": [
       "$$\\left[\\begin{matrix}\\left(\\frac{\\sqrt{k_{0}^{2} - k_{||}^{2}}}{\\sqrt{k_{0}^{2} n_{1}^{2} - k_{||}^{2}}} + 1\\right) e^{- i d \\sqrt{k_{0}^{2} n_{1}^{2} - k_{||}^{2}}} & \\left(- \\frac{\\sqrt{k_{0}^{2} - k_{||}^{2}}}{\\sqrt{k_{0}^{2} n_{1}^{2} - k_{||}^{2}}} + 1\\right) e^{- i d \\sqrt{k_{0}^{2} n_{1}^{2} - k_{||}^{2}}}\\\\\\left(- \\frac{\\sqrt{k_{0}^{2} - k_{||}^{2}}}{\\sqrt{k_{0}^{2} n_{1}^{2} - k_{||}^{2}}} + 1\\right) e^{i d \\sqrt{k_{0}^{2} n_{1}^{2} - k_{||}^{2}}} & \\left(\\frac{\\sqrt{k_{0}^{2} - k_{||}^{2}}}{\\sqrt{k_{0}^{2} n_{1}^{2} - k_{||}^{2}}} + 1\\right) e^{i d \\sqrt{k_{0}^{2} n_{1}^{2} - k_{||}^{2}}}\\end{matrix}\\right]$$"
      ],
      "text/plain": [
       "⎡⎛     _____________      ⎞          _________________   ⎛       _____________\n",
       "⎢⎜    ╱   2       2       ⎟         ╱   2   2       2    ⎜      ╱   2       2 \n",
       "⎢⎜  ╲╱  k₀  - k_||        ⎟  -ⅈ⋅d⋅╲╱  k₀ ⋅n₁  - k_||     ⎜    ╲╱  k₀  - k_||  \n",
       "⎢⎜──────────────────── + 1⎟⋅ℯ                            ⎜- ──────────────────\n",
       "⎢⎜   _________________    ⎟                              ⎜     _______________\n",
       "⎢⎜  ╱   2   2       2     ⎟                              ⎜    ╱   2   2       \n",
       "⎢⎝╲╱  k₀ ⋅n₁  - k_||      ⎠                              ⎝  ╲╱  k₀ ⋅n₁  - k_||\n",
       "⎢                                                                             \n",
       "⎢⎛       _____________      ⎞         _________________   ⎛     _____________ \n",
       "⎢⎜      ╱   2       2       ⎟        ╱   2   2       2    ⎜    ╱   2       2  \n",
       "⎢⎜    ╲╱  k₀  - k_||        ⎟  ⅈ⋅d⋅╲╱  k₀ ⋅n₁  - k_||     ⎜  ╲╱  k₀  - k_||   \n",
       "⎢⎜- ──────────────────── + 1⎟⋅ℯ                           ⎜───────────────────\n",
       "⎢⎜     _________________    ⎟                             ⎜   ________________\n",
       "⎢⎜    ╱   2   2       2     ⎟                             ⎜  ╱   2   2       2\n",
       "⎣⎝  ╲╱  k₀ ⋅n₁  - k_||      ⎠                             ⎝╲╱  k₀ ⋅n₁  - k_|| \n",
       "\n",
       "      ⎞          _________________⎤\n",
       "      ⎟         ╱   2   2       2 ⎥\n",
       "      ⎟  -ⅈ⋅d⋅╲╱  k₀ ⋅n₁  - k_||  ⎥\n",
       "── + 1⎟⋅ℯ                         ⎥\n",
       "__    ⎟                           ⎥\n",
       "2     ⎟                           ⎥\n",
       "      ⎠                           ⎥\n",
       "                                  ⎥\n",
       "     ⎞         _________________  ⎥\n",
       "     ⎟        ╱   2   2       2   ⎥\n",
       "     ⎟  ⅈ⋅d⋅╲╱  k₀ ⋅n₁  - k_||    ⎥\n",
       "─ + 1⎟⋅ℯ                          ⎥\n",
       "_    ⎟                            ⎥\n",
       "     ⎟                            ⎥\n",
       "     ⎠                            ⎦"
      ]
     },
     "execution_count": 37,
     "metadata": {},
     "output_type": "execute_result"
    }
   ],
   "source": [
    "M1"
   ]
  },
  {
   "cell_type": "code",
   "execution_count": 38,
   "metadata": {
    "collapsed": false
   },
   "outputs": [],
   "source": [
    "M=M0*M1\n",
    "M=M[0,0]\n",
    "M11=M.subs([(n1,4),(c,3*10**8), (d,1)])\n",
    "eq = Eq(M11,0)"
   ]
  },
  {
   "cell_type": "code",
   "execution_count": 81,
   "metadata": {
    "collapsed": false,
    "scrolled": true
   },
   "outputs": [],
   "source": [
    "eq1 = Eq(M.subs([(n1,4),(c,3*10**8), (d,1)]),0)"
   ]
  },
  {
   "cell_type": "code",
   "execution_count": 82,
   "metadata": {
    "collapsed": false
   },
   "outputs": [
    {
     "data": {
      "image/png": "[encoded data removed]",
      "text/latex": [
       "$$\\left(1 - \\frac{\\sqrt{16 k_{0}^{2} - k_{||}^{2}}}{\\sqrt{k_{0}^{2} - k_{||}^{2}}}\\right) \\left(- \\frac{\\sqrt{k_{0}^{2} - k_{||}^{2}}}{\\sqrt{16 k_{0}^{2} - k_{||}^{2}}} + 1\\right) e^{i \\sqrt{16 k_{0}^{2} - k_{||}^{2}}} + \\left(1 + \\frac{\\sqrt{16 k_{0}^{2} - k_{||}^{2}}}{\\sqrt{k_{0}^{2} - k_{||}^{2}}}\\right) \\left(\\frac{\\sqrt{k_{0}^{2} - k_{||}^{2}}}{\\sqrt{16 k_{0}^{2} - k_{||}^{2}}} + 1\\right) e^{- i \\sqrt{16 k_{0}^{2} - k_{||}^{2}}} = 0$$"
      ],
      "text/plain": [
       "⎛       ________________⎞ ⎛       _____________     ⎞       ________________  \n",
       "⎜      ╱      2       2 ⎟ ⎜      ╱   2       2      ⎟      ╱      2       2   \n",
       "⎜    ╲╱  16⋅k₀  - k_||  ⎟ ⎜    ╲╱  k₀  - k_||       ⎟  ⅈ⋅╲╱  16⋅k₀  - k_||    \n",
       "⎜1 - ───────────────────⎟⋅⎜- ─────────────────── + 1⎟⋅ℯ                      +\n",
       "⎜         _____________ ⎟ ⎜     ________________    ⎟                         \n",
       "⎜        ╱   2       2  ⎟ ⎜    ╱      2       2     ⎟                         \n",
       "⎝      ╲╱  k₀  - k_||   ⎠ ⎝  ╲╱  16⋅k₀  - k_||      ⎠                         \n",
       "\n",
       " ⎛       ________________⎞ ⎛     _____________     ⎞        ________________  \n",
       " ⎜      ╱      2       2 ⎟ ⎜    ╱   2       2      ⎟       ╱      2       2   \n",
       " ⎜    ╲╱  16⋅k₀  - k_||  ⎟ ⎜  ╲╱  k₀  - k_||       ⎟  -ⅈ⋅╲╱  16⋅k₀  - k_||    \n",
       " ⎜1 + ───────────────────⎟⋅⎜─────────────────── + 1⎟⋅ℯ                       =\n",
       " ⎜         _____________ ⎟ ⎜   ________________    ⎟                          \n",
       " ⎜        ╱   2       2  ⎟ ⎜  ╱      2       2     ⎟                          \n",
       " ⎝      ╲╱  k₀  - k_||   ⎠ ⎝╲╱  16⋅k₀  - k_||      ⎠                          \n",
       "\n",
       "  \n",
       "  \n",
       "  \n",
       " 0\n",
       "  \n",
       "  \n",
       "  "
      ]
     },
     "execution_count": 82,
     "metadata": {},
     "output_type": "execute_result"
    }
   ],
   "source": [
    "eq1"
   ]
  },
  {
   "cell_type": "code",
   "execution_count": null,
   "metadata": {
    "collapsed": true
   },
   "outputs": [],
   "source": []
  }
 ],
 "metadata": {
  "kernelspec": {
   "display_name": "Python 3",
   "language": "python",
   "name": "python3"
  },
  "language_info": {
   "codemirror_mode": {
    "name": "ipython",
    "version": 3
   },
   "file_extension": ".py",
   "mimetype": "text/x-python",
   "name": "python",
   "nbconvert_exporter": "python",
   "pygments_lexer": "ipython3",
   "version": "3.6.0"
  }
 },
 "nbformat": 4,
 "nbformat_minor": 2
}
